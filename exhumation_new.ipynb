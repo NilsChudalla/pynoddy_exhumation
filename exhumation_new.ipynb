{
 "cells": [
  {
   "cell_type": "code",
   "execution_count": 1,
   "id": "062b5d9d",
   "metadata": {},
   "outputs": [
    {
     "name": "stderr",
     "output_type": "stream",
     "text": [
      "C:\\ProgramData\\Anaconda3\\lib\\site-packages\\scipy\\__init__.py:138: UserWarning: A NumPy version >=1.16.5 and <1.23.0 is required for this version of SciPy (detected version 1.24.4)\n",
      "  warnings.warn(f\"A NumPy version >={np_minversion} and <{np_maxversion} is required for this version of \"\n"
     ]
    }
   ],
   "source": [
    "import pynoddy\n",
    "import importlib\n",
    "importlib.reload(pynoddy)\n",
    "import pynoddy.history\n",
    "import pynoddy.output\n",
    "import pandas as pd\n",
    "import numpy as np\n",
    "from exh_functions import *"
   ]
  },
  {
   "cell_type": "code",
   "execution_count": 2,
   "id": "d57f52c4",
   "metadata": {},
   "outputs": [],
   "source": [
    "samples = pd.read_csv('../bregenz model/bregenz_data.csv', delimiter = ',')"
   ]
  },
  {
   "cell_type": "code",
   "execution_count": 3,
   "id": "77aed1c5",
   "metadata": {},
   "outputs": [
    {
     "name": "stdout",
     "output_type": "stream",
     "text": [
      "outputs/noddy_out\n",
      "outputs/out_hd\n"
     ]
    }
   ],
   "source": [
    "history = '../Lechtal model/bregenz_samples.his'\n",
    "output_name = 'outputs/noddy_out'\n",
    "pynoddy.compute_model(history, output_name, \n",
    "                      noddy_path = r'C:\\Users\\Sofia\\pynoddy\\noddyapp\\noddy_win64.exe')\n",
    "\n",
    "hist = pynoddy.history.NoddyHistory(history)\n",
    "out = pynoddy.output.NoddyOutput(output_name)\n",
    "\n",
    "#make it hd \n",
    "hist.change_cube_size(100)\n",
    "hist_hd = 'outputs/hist_hd.his'\n",
    "out_hd = 'outputs/out_hd'\n",
    "hist.write_history(hist_hd)\n",
    "pynoddy.compute_model(hist_hd, out_hd, noddy_path = r'C:\\Users\\Sofia\\pynoddy\\noddyapp\\noddy_win64.exe')\n",
    "out_hd = pynoddy.output.NoddyOutput(out_hd)"
   ]
  },
  {
   "cell_type": "markdown",
   "id": "c52533ac",
   "metadata": {},
   "source": [
    "## FUNCTIONS"
   ]
  },
  {
   "cell_type": "code",
   "execution_count": 4,
   "id": "46fd2662",
   "metadata": {},
   "outputs": [],
   "source": [
    "def calc_new_position(hist, diff, og_depths, samples):\n",
    "    samples_noddy_pos = []\n",
    "    for i in np.arange(11,21):\n",
    "        p,_,out = ExtractCoords(hist, lith = [i], res = 1)\n",
    "        t = p[...,2].min()\n",
    "        \n",
    "        z = (t*1000) / 3681.39\n",
    "        \n",
    "        samples_noddy_pos.append(z)\n",
    "        \n",
    "    proposed_exhumation = [x - y - z for x,y,z in zip(samples_noddy_pos, diff, og_depths)]\n",
    "    samples['exhumation'] = proposed_exhumation\n",
    "    \n",
    "    return samples, samples_noddy_pos "
   ]
  },
  {
   "cell_type": "code",
   "execution_count": 5,
   "id": "6af1a013",
   "metadata": {},
   "outputs": [],
   "source": [
    "def disturb_property(PH_local, event_list, prop_list, std_list):\n",
    "    data = []\n",
    "    for i in event_list:\n",
    "        event_data = [i]\n",
    "        for j, prop in enumerate(prop_list):\n",
    "            new_param = disturb_value(PH_local.events[i], prop_list[j], std_list[j])\n",
    "            event_data.append(new_param)\n",
    "            \n",
    "        data.append(event_data)\n",
    "    col = ['event_name'] + prop_list\n",
    "    df = pd.DataFrame(data, columns = col)\n",
    "    \n",
    "    return data, df"
   ]
  },
  {
   "cell_type": "markdown",
   "id": "bb15b07a",
   "metadata": {},
   "source": [
    "## CALCULATE ORIGINAL EXHUMATION"
   ]
  },
  {
   "cell_type": "code",
   "execution_count": 6,
   "id": "e30c591d",
   "metadata": {},
   "outputs": [],
   "source": [
    "event_list = [20,21,22,24] #choose which events to modify\n",
    "prop_list = ['Slip','Amplitude'] #choose which properties to modify\n",
    "std_list = [600,200] "
   ]
  },
  {
   "cell_type": "code",
   "execution_count": 7,
   "id": "e57918ae",
   "metadata": {},
   "outputs": [
    {
     "name": "stdout",
     "output_type": "stream",
     "text": [
      "outputs/temp_out\n",
      "outputs/temp_out\n",
      "outputs/temp_out\n",
      "outputs/temp_out\n",
      "outputs/temp_out\n",
      "outputs/temp_out\n",
      "outputs/temp_out\n",
      "outputs/temp_out\n",
      "outputs/temp_out\n",
      "outputs/temp_out\n"
     ]
    }
   ],
   "source": [
    "og_depths = []\n",
    "for event_name, event in hist.events.items():\n",
    "    if isinstance(event, pynoddy.events.Plug):\n",
    "        z = event.properties['Z']\n",
    "        \n",
    "        og_depths.append(z)\n",
    "\n",
    "samples_z = []\n",
    "for i in range(len(samples)):\n",
    "    z = samples.iloc[i]['Z']\n",
    "    \n",
    "    samples_z.append(z)\n",
    "    \n",
    "_,samples_noddy_pos = calc_new_position(hist, og_depths, og_depths, samples)   \n",
    "diff = [x - y for x, y in zip(samples_noddy_pos, samples_z)]\n",
    "current_exhumation = [x - y - z for x,y,z in zip(samples_noddy_pos, diff, og_depths)]\n",
    "samples['exhumation'] = current_exhumation"
   ]
  },
  {
   "cell_type": "code",
   "execution_count": 8,
   "id": "6746b621",
   "metadata": {},
   "outputs": [],
   "source": [
    "current_exhumation = samples\n",
    "samples['respected'] = 0"
   ]
  },
  {
   "cell_type": "code",
   "execution_count": 17,
   "id": "8d5d0968",
   "metadata": {},
   "outputs": [],
   "source": [
    "og_params = []\n",
    "for i in event_list:\n",
    "    event_data = [i]\n",
    "    for j, prop in enumerate(prop_list):\n",
    "        propert = hist.events[i].properties[prop]\n",
    "        event_data.append(propert)\n",
    "    og_params.append(event_data)\n",
    "    \n",
    "col = ['event_name'] + prop_list\n",
    "og_params_df = pd.DataFrame(data, columns = col)"
   ]
  },
  {
   "cell_type": "markdown",
   "id": "16d2d68e",
   "metadata": {},
   "source": [
    "## MCMC SIMULATION"
   ]
  },
  {
   "cell_type": "code",
   "execution_count": 23,
   "id": "ddb68bdc",
   "metadata": {},
   "outputs": [
    {
     "data": {
      "text/html": [
       "<div>\n",
       "<style scoped>\n",
       "    .dataframe tbody tr th:only-of-type {\n",
       "        vertical-align: middle;\n",
       "    }\n",
       "\n",
       "    .dataframe tbody tr th {\n",
       "        vertical-align: top;\n",
       "    }\n",
       "\n",
       "    .dataframe thead th {\n",
       "        text-align: right;\n",
       "    }\n",
       "</style>\n",
       "<table border=\"1\" class=\"dataframe\">\n",
       "  <thead>\n",
       "    <tr style=\"text-align: right;\">\n",
       "      <th></th>\n",
       "      <th>event_name</th>\n",
       "      <th>Slip</th>\n",
       "      <th>Amplitude</th>\n",
       "    </tr>\n",
       "  </thead>\n",
       "  <tbody>\n",
       "    <tr>\n",
       "      <th>0</th>\n",
       "      <td>20</td>\n",
       "      <td>-10000.0</td>\n",
       "      <td>3064.0</td>\n",
       "    </tr>\n",
       "    <tr>\n",
       "      <th>1</th>\n",
       "      <td>21</td>\n",
       "      <td>-9200.0</td>\n",
       "      <td>4528.0</td>\n",
       "    </tr>\n",
       "    <tr>\n",
       "      <th>2</th>\n",
       "      <td>22</td>\n",
       "      <td>-9000.0</td>\n",
       "      <td>6792.0</td>\n",
       "    </tr>\n",
       "    <tr>\n",
       "      <th>3</th>\n",
       "      <td>24</td>\n",
       "      <td>-12000.0</td>\n",
       "      <td>5000.0</td>\n",
       "    </tr>\n",
       "  </tbody>\n",
       "</table>\n",
       "</div>"
      ],
      "text/plain": [
       "   event_name     Slip  Amplitude\n",
       "0          20 -10000.0     3064.0\n",
       "1          21  -9200.0     4528.0\n",
       "2          22  -9000.0     6792.0\n",
       "3          24 -12000.0     5000.0"
      ]
     },
     "execution_count": 23,
     "metadata": {},
     "output_type": "execute_result"
    }
   ],
   "source": [
    "og_params_df"
   ]
  },
  {
   "cell_type": "code",
   "execution_count": 22,
   "id": "11449e0b",
   "metadata": {},
   "outputs": [],
   "source": [
    "denise = og_params_df\n",
    "denise['min'] = [-11000, -10200, -10000,-13000]\n",
    "denise['max'] = [3564]"
   ]
  },
  {
   "cell_type": "code",
   "execution_count": 20,
   "id": "8fdad9ff",
   "metadata": {},
   "outputs": [],
   "source": [
    "n_draws = 20\n",
    "accepted =0\n",
    "current_params = og_params"
   ]
  },
  {
   "cell_type": "code",
   "execution_count": 15,
   "id": "b159f938",
   "metadata": {},
   "outputs": [
    {
     "name": "stdout",
     "output_type": "stream",
     "text": [
      "outputs/temp_out\n"
     ]
    },
    {
     "ename": "KeyboardInterrupt",
     "evalue": "",
     "output_type": "error",
     "traceback": [
      "\u001b[1;31m---------------------------------------------------------------------------\u001b[0m",
      "\u001b[1;31mKeyboardInterrupt\u001b[0m                         Traceback (most recent call last)",
      "\u001b[1;32m<ipython-input-15-da46e4b8f9b9>\u001b[0m in \u001b[0;36m<module>\u001b[1;34m\u001b[0m\n\u001b[0;32m      4\u001b[0m     \u001b[0mproposed_params\u001b[0m\u001b[1;33m,\u001b[0m \u001b[0mproposed_params_df\u001b[0m \u001b[1;33m=\u001b[0m \u001b[0mdisturb_property\u001b[0m\u001b[1;33m(\u001b[0m\u001b[0mhist_copy\u001b[0m\u001b[1;33m,\u001b[0m \u001b[0mprop\u001b[0m\u001b[1;33m,\u001b[0m \u001b[0mstd_list\u001b[0m\u001b[1;33m)\u001b[0m\u001b[1;33m\u001b[0m\u001b[1;33m\u001b[0m\u001b[0m\n\u001b[0;32m      5\u001b[0m \u001b[1;33m\u001b[0m\u001b[0m\n\u001b[1;32m----> 6\u001b[1;33m     \u001b[0mproposed_exhumation\u001b[0m\u001b[1;33m,\u001b[0m\u001b[0m_\u001b[0m \u001b[1;33m=\u001b[0m \u001b[0mcalc_new_position\u001b[0m\u001b[1;33m(\u001b[0m\u001b[0mhist_copy\u001b[0m\u001b[1;33m,\u001b[0m \u001b[0mdiff\u001b[0m\u001b[1;33m,\u001b[0m \u001b[0mog_depths\u001b[0m\u001b[1;33m,\u001b[0m \u001b[0msamples\u001b[0m\u001b[1;33m)\u001b[0m\u001b[1;33m\u001b[0m\u001b[1;33m\u001b[0m\u001b[0m\n\u001b[0m\u001b[0;32m      7\u001b[0m \u001b[1;33m\u001b[0m\u001b[0m\n\u001b[0;32m      8\u001b[0m     \u001b[1;31m#calculate likelihood\u001b[0m\u001b[1;33m\u001b[0m\u001b[1;33m\u001b[0m\u001b[1;33m\u001b[0m\u001b[0m\n",
      "\u001b[1;32m<ipython-input-6-fc442f85adc4>\u001b[0m in \u001b[0;36mcalc_new_position\u001b[1;34m(hist, diff, og_depths, samples)\u001b[0m\n\u001b[0;32m      2\u001b[0m     \u001b[0msamples_noddy_pos\u001b[0m \u001b[1;33m=\u001b[0m \u001b[1;33m[\u001b[0m\u001b[1;33m]\u001b[0m\u001b[1;33m\u001b[0m\u001b[1;33m\u001b[0m\u001b[0m\n\u001b[0;32m      3\u001b[0m     \u001b[1;32mfor\u001b[0m \u001b[0mi\u001b[0m \u001b[1;32min\u001b[0m \u001b[0mnp\u001b[0m\u001b[1;33m.\u001b[0m\u001b[0marange\u001b[0m\u001b[1;33m(\u001b[0m\u001b[1;36m11\u001b[0m\u001b[1;33m,\u001b[0m\u001b[1;36m21\u001b[0m\u001b[1;33m)\u001b[0m\u001b[1;33m:\u001b[0m\u001b[1;33m\u001b[0m\u001b[1;33m\u001b[0m\u001b[0m\n\u001b[1;32m----> 4\u001b[1;33m         \u001b[0mp\u001b[0m\u001b[1;33m,\u001b[0m\u001b[0m_\u001b[0m\u001b[1;33m,\u001b[0m\u001b[0mout\u001b[0m \u001b[1;33m=\u001b[0m \u001b[0mExtractCoords\u001b[0m\u001b[1;33m(\u001b[0m\u001b[0mhist\u001b[0m\u001b[1;33m,\u001b[0m \u001b[0mlith\u001b[0m \u001b[1;33m=\u001b[0m \u001b[1;33m[\u001b[0m\u001b[0mi\u001b[0m\u001b[1;33m]\u001b[0m\u001b[1;33m,\u001b[0m \u001b[0mres\u001b[0m \u001b[1;33m=\u001b[0m \u001b[1;36m1\u001b[0m\u001b[1;33m)\u001b[0m\u001b[1;33m\u001b[0m\u001b[1;33m\u001b[0m\u001b[0m\n\u001b[0m\u001b[0;32m      5\u001b[0m         \u001b[0mt\u001b[0m \u001b[1;33m=\u001b[0m \u001b[0mp\u001b[0m\u001b[1;33m[\u001b[0m\u001b[1;33m...\u001b[0m\u001b[1;33m,\u001b[0m\u001b[1;36m2\u001b[0m\u001b[1;33m]\u001b[0m\u001b[1;33m.\u001b[0m\u001b[0mmin\u001b[0m\u001b[1;33m(\u001b[0m\u001b[1;33m)\u001b[0m\u001b[1;33m\u001b[0m\u001b[1;33m\u001b[0m\u001b[0m\n\u001b[0;32m      6\u001b[0m \u001b[1;33m\u001b[0m\u001b[0m\n",
      "\u001b[1;32m~\\Documents\\Sofia\\Noddy\\exhumation_study\\exh_functions.py\u001b[0m in \u001b[0;36mExtractCoords\u001b[1;34m(hist_moment, lith, res)\u001b[0m\n\u001b[0;32m     23\u001b[0m     \u001b[0mtemp_out\u001b[0m \u001b[1;33m=\u001b[0m \u001b[1;34m'outputs/temp_out'\u001b[0m\u001b[1;33m\u001b[0m\u001b[1;33m\u001b[0m\u001b[0m\n\u001b[0;32m     24\u001b[0m     \u001b[0mhist_moment\u001b[0m\u001b[1;33m.\u001b[0m\u001b[0mwrite_history\u001b[0m\u001b[1;33m(\u001b[0m\u001b[0mtemp_hist\u001b[0m\u001b[1;33m)\u001b[0m\u001b[1;33m\u001b[0m\u001b[1;33m\u001b[0m\u001b[0m\n\u001b[1;32m---> 25\u001b[1;33m     pynoddy.compute_model(temp_hist, temp_out, \n\u001b[0m\u001b[0;32m     26\u001b[0m                           noddy_path = r'C:\\Users\\Sofia\\pynoddy\\noddyapp\\noddy_win64.exe')\n\u001b[0;32m     27\u001b[0m     \u001b[0mN1\u001b[0m \u001b[1;33m=\u001b[0m \u001b[0mpynoddy\u001b[0m\u001b[1;33m.\u001b[0m\u001b[0moutput\u001b[0m\u001b[1;33m.\u001b[0m\u001b[0mNoddyOutput\u001b[0m\u001b[1;33m(\u001b[0m\u001b[0mtemp_out\u001b[0m\u001b[1;33m)\u001b[0m\u001b[1;33m\u001b[0m\u001b[1;33m\u001b[0m\u001b[0m\n",
      "\u001b[1;32mC:\\ProgramData\\Anaconda3\\lib\\site-packages\\pynoddy\\__init__.py\u001b[0m in \u001b[0;36mcompute_model\u001b[1;34m(history, output_name, **kwds)\u001b[0m\n\u001b[0;32m    109\u001b[0m         \u001b[1;31m# Hardcoded - adjust for own needs, if required!\u001b[0m\u001b[1;33m\u001b[0m\u001b[1;33m\u001b[0m\u001b[1;33m\u001b[0m\u001b[0m\n\u001b[0;32m    110\u001b[0m         \u001b[0mnoddy_path\u001b[0m \u001b[1;33m=\u001b[0m \u001b[1;34m'noddy'\u001b[0m\u001b[1;33m\u001b[0m\u001b[1;33m\u001b[0m\u001b[0m\n\u001b[1;32m--> 111\u001b[1;33m         subprocess.run([noddy_path, history, output_name, sim_type],\n\u001b[0m\u001b[0;32m    112\u001b[0m                               shell=False, stdout=subprocess.PIPE)\n\u001b[0;32m    113\u001b[0m \u001b[1;33m\u001b[0m\u001b[0m\n",
      "\u001b[1;32mC:\\ProgramData\\Anaconda3\\lib\\subprocess.py\u001b[0m in \u001b[0;36mrun\u001b[1;34m(input, capture_output, timeout, check, *popenargs, **kwargs)\u001b[0m\n\u001b[0;32m    493\u001b[0m     \u001b[1;32mwith\u001b[0m \u001b[0mPopen\u001b[0m\u001b[1;33m(\u001b[0m\u001b[1;33m*\u001b[0m\u001b[0mpopenargs\u001b[0m\u001b[1;33m,\u001b[0m \u001b[1;33m**\u001b[0m\u001b[0mkwargs\u001b[0m\u001b[1;33m)\u001b[0m \u001b[1;32mas\u001b[0m \u001b[0mprocess\u001b[0m\u001b[1;33m:\u001b[0m\u001b[1;33m\u001b[0m\u001b[1;33m\u001b[0m\u001b[0m\n\u001b[0;32m    494\u001b[0m         \u001b[1;32mtry\u001b[0m\u001b[1;33m:\u001b[0m\u001b[1;33m\u001b[0m\u001b[1;33m\u001b[0m\u001b[0m\n\u001b[1;32m--> 495\u001b[1;33m             \u001b[0mstdout\u001b[0m\u001b[1;33m,\u001b[0m \u001b[0mstderr\u001b[0m \u001b[1;33m=\u001b[0m \u001b[0mprocess\u001b[0m\u001b[1;33m.\u001b[0m\u001b[0mcommunicate\u001b[0m\u001b[1;33m(\u001b[0m\u001b[0minput\u001b[0m\u001b[1;33m,\u001b[0m \u001b[0mtimeout\u001b[0m\u001b[1;33m=\u001b[0m\u001b[0mtimeout\u001b[0m\u001b[1;33m)\u001b[0m\u001b[1;33m\u001b[0m\u001b[1;33m\u001b[0m\u001b[0m\n\u001b[0m\u001b[0;32m    496\u001b[0m         \u001b[1;32mexcept\u001b[0m \u001b[0mTimeoutExpired\u001b[0m \u001b[1;32mas\u001b[0m \u001b[0mexc\u001b[0m\u001b[1;33m:\u001b[0m\u001b[1;33m\u001b[0m\u001b[1;33m\u001b[0m\u001b[0m\n\u001b[0;32m    497\u001b[0m             \u001b[0mprocess\u001b[0m\u001b[1;33m.\u001b[0m\u001b[0mkill\u001b[0m\u001b[1;33m(\u001b[0m\u001b[1;33m)\u001b[0m\u001b[1;33m\u001b[0m\u001b[1;33m\u001b[0m\u001b[0m\n",
      "\u001b[1;32mC:\\ProgramData\\Anaconda3\\lib\\subprocess.py\u001b[0m in \u001b[0;36mcommunicate\u001b[1;34m(self, input, timeout)\u001b[0m\n\u001b[0;32m   1013\u001b[0m                 \u001b[0mself\u001b[0m\u001b[1;33m.\u001b[0m\u001b[0m_stdin_write\u001b[0m\u001b[1;33m(\u001b[0m\u001b[0minput\u001b[0m\u001b[1;33m)\u001b[0m\u001b[1;33m\u001b[0m\u001b[1;33m\u001b[0m\u001b[0m\n\u001b[0;32m   1014\u001b[0m             \u001b[1;32melif\u001b[0m \u001b[0mself\u001b[0m\u001b[1;33m.\u001b[0m\u001b[0mstdout\u001b[0m\u001b[1;33m:\u001b[0m\u001b[1;33m\u001b[0m\u001b[1;33m\u001b[0m\u001b[0m\n\u001b[1;32m-> 1015\u001b[1;33m                 \u001b[0mstdout\u001b[0m \u001b[1;33m=\u001b[0m \u001b[0mself\u001b[0m\u001b[1;33m.\u001b[0m\u001b[0mstdout\u001b[0m\u001b[1;33m.\u001b[0m\u001b[0mread\u001b[0m\u001b[1;33m(\u001b[0m\u001b[1;33m)\u001b[0m\u001b[1;33m\u001b[0m\u001b[1;33m\u001b[0m\u001b[0m\n\u001b[0m\u001b[0;32m   1016\u001b[0m                 \u001b[0mself\u001b[0m\u001b[1;33m.\u001b[0m\u001b[0mstdout\u001b[0m\u001b[1;33m.\u001b[0m\u001b[0mclose\u001b[0m\u001b[1;33m(\u001b[0m\u001b[1;33m)\u001b[0m\u001b[1;33m\u001b[0m\u001b[1;33m\u001b[0m\u001b[0m\n\u001b[0;32m   1017\u001b[0m             \u001b[1;32melif\u001b[0m \u001b[0mself\u001b[0m\u001b[1;33m.\u001b[0m\u001b[0mstderr\u001b[0m\u001b[1;33m:\u001b[0m\u001b[1;33m\u001b[0m\u001b[1;33m\u001b[0m\u001b[0m\n",
      "\u001b[1;31mKeyboardInterrupt\u001b[0m: "
     ]
    }
   ],
   "source": [
    "for i in range(n_draws):\n",
    "    \n",
    "    hist_copy = copy.deepcopy(hist)\n",
    "    proposed_params, proposed_params_df = disturb_property(hist_copy, prop, std_list)\n",
    "    \n",
    "    proposed_exhumation,_ = calc_new_position(hist_copy, diff, og_depths, samples)\n",
    "    \n",
    "    #calculate likelihood\n",
    "    current_likelihood,current_score,current_samples = likelihood_and_score(current_exhumation)\n",
    "    proposed_likelihood,proposed_score,proposed_samples = likelihood_and_score(proposed_exhumation)\n",
    "    current_prior = prior_dist(og_params, current_params, std_list)\n",
    "    proposed_prior = prior_dist(og_params, proposed_params, std_list)\n",
    "    \n",
    "    print(f\"accepted model of score {proposed_score}\")\n",
    "    acceptance_ratio = (proposed_prior * proposed_likelihood) / (current_prior * current_likelihood)\n",
    "    print(f\"acceptance ratio: {acceptance_ratio}\")\n",
    "    \n",
    "    random_n = np.random.rand(1)\n",
    "    print(f\"random threshold: {random_n}\")\n",
    "    if acceptance_ratio > random_n:\n",
    "        #accept\n",
    "        current_params = proposed_params\n",
    "        current_exhumation = proposed_exhumation\n",
    "        \n",
    "        accepted +=1\n",
    "    \n",
    "        #otherwise reject\n",
    "    "
   ]
  },
  {
   "cell_type": "markdown",
   "id": "9246344a",
   "metadata": {},
   "source": [
    "# FUNCTIONS (TO BE DELETED LATER)"
   ]
  },
  {
   "cell_type": "code",
   "execution_count": 6,
   "id": "c7876a9f",
   "metadata": {},
   "outputs": [],
   "source": [
    "def create_pdf(mean, std_dev):\n",
    "    def pdf(x):\n",
    "        coeff = 1 / (std_dev * np.sqrt(2 * np.pi))\n",
    "        exponent = - ((x - mean) ** 2) / (2 * std_dev ** 2)\n",
    "        return coeff * np.exp(exponent)\n",
    "    return pdf\n",
    "\n",
    "def prior_dist(og_params,proposed_params,std_list):\n",
    "    prior_prob = 1.0\n",
    "    for i in range(len(og_params)):\n",
    "        for j in range(len(std_list)):\n",
    "            pdf = create_pdf(og_params[i][j+1], std_list[j])\n",
    "            prior_prob *= pdf(proposed_params[i][j+1])\n",
    "    return prior_prob"
   ]
  },
  {
   "cell_type": "code",
   "execution_count": 28,
   "id": "8037eadd",
   "metadata": {},
   "outputs": [],
   "source": [
    "def likelihood_and_score(samples_df):\n",
    "    \n",
    "    likelihood = 1.0\n",
    "    model_score = 0\n",
    "    \n",
    "    for i in range(len(samples_df)):\n",
    "        if samples_df.iloc[i]['group'] in ['a']:\n",
    "            if samples_df.iloc[i]['exhumation'] < 3000: #non reset AFT sample (B60, always accepted) strict\n",
    "                likelihood *= 2\n",
    "                model_score += 1\n",
    "                samples_df.loc[i,'respected'] += 1\n",
    "                \n",
    "            else:\n",
    "                proximity = (samples_df.iloc[i]['exhumation'] - 3000) / 3000\n",
    "                rf = np.exp(-proximity)\n",
    "                likelihood *= rf\n",
    "                \n",
    "        \n",
    "        elif samples_df.iloc[i]['group'] in ['b']:\n",
    "            if samples_df.iloc[i]['exhumation'] > 4800: #reset AFT sample (B10, never accepted) not strict\n",
    "                likelihood *= 2\n",
    "                model_score += 1\n",
    "                samples_df.loc[i,'respected'] += 1\n",
    "            else:\n",
    "                proximity = (4800 - samples_df.iloc[i]['exhumation']) / 4800\n",
    "                rf = np.exp(-proximity)\n",
    "                likelihood *= rf\n",
    "                \n",
    "        elif samples_df.iloc[i]['group'] in ['c']: #this should be a strict criteria #reset AHe, partially reset AFT\n",
    "            if samples_df.iloc[i]['exhumation'] > 3200 and samples_df.iloc[i]['exhumation'] < 4800:\n",
    "                likelihood *= 4\n",
    "                model_score += 1\n",
    "                samples_df.loc[i,'respected'] += 1\n",
    "            else:\n",
    "                likelihood *= 0.05\n",
    "                \n",
    "        elif samples_df.iloc[i]['group'] in ['d']: #reset AHe samples\n",
    "            if samples_df.iloc[i]['exhumation'] > 3200:\n",
    "                likelihood *= 2\n",
    "                model_score += 1\n",
    "                samples_df.loc[i,'respected'] += 1\n",
    "            else:\n",
    "                proximity = (3200 - samples_df.iloc[i]['exhumation']) / 3200\n",
    "                rf = np.exp(-proximity)\n",
    "                likelihood *= rf\n",
    "    return likelihood, model_score, samples_df\n",
    "            \n",
    "            "
   ]
  },
  {
   "cell_type": "code",
   "execution_count": 29,
   "id": "fcfe8744",
   "metadata": {},
   "outputs": [],
   "source": [
    "_,_,s = likelihood_and_score(current_exhumation)"
   ]
  },
  {
   "cell_type": "code",
   "execution_count": 30,
   "id": "cef99d20",
   "metadata": {},
   "outputs": [
    {
     "data": {
      "text/html": [
       "<div>\n",
       "<style scoped>\n",
       "    .dataframe tbody tr th:only-of-type {\n",
       "        vertical-align: middle;\n",
       "    }\n",
       "\n",
       "    .dataframe tbody tr th {\n",
       "        vertical-align: top;\n",
       "    }\n",
       "\n",
       "    .dataframe thead th {\n",
       "        text-align: right;\n",
       "    }\n",
       "</style>\n",
       "<table border=\"1\" class=\"dataframe\">\n",
       "  <thead>\n",
       "    <tr style=\"text-align: right;\">\n",
       "      <th></th>\n",
       "      <th>X</th>\n",
       "      <th>Y</th>\n",
       "      <th>Z</th>\n",
       "      <th>sample</th>\n",
       "      <th>group</th>\n",
       "      <th>exhumation</th>\n",
       "      <th>respected</th>\n",
       "    </tr>\n",
       "  </thead>\n",
       "  <tbody>\n",
       "    <tr>\n",
       "      <th>0</th>\n",
       "      <td>1626.7528</td>\n",
       "      <td>4990.4679</td>\n",
       "      <td>710</td>\n",
       "      <td>60</td>\n",
       "      <td>a</td>\n",
       "      <td>0.000000</td>\n",
       "      <td>1</td>\n",
       "    </tr>\n",
       "    <tr>\n",
       "      <th>1</th>\n",
       "      <td>8145.5806</td>\n",
       "      <td>1315.1883</td>\n",
       "      <td>519</td>\n",
       "      <td>55</td>\n",
       "      <td>c</td>\n",
       "      <td>17.025996</td>\n",
       "      <td>0</td>\n",
       "    </tr>\n",
       "    <tr>\n",
       "      <th>2</th>\n",
       "      <td>13815.5822</td>\n",
       "      <td>12609.0000</td>\n",
       "      <td>541</td>\n",
       "      <td>50</td>\n",
       "      <td>d</td>\n",
       "      <td>2973.948008</td>\n",
       "      <td>0</td>\n",
       "    </tr>\n",
       "    <tr>\n",
       "      <th>3</th>\n",
       "      <td>15737.3562</td>\n",
       "      <td>14061.0000</td>\n",
       "      <td>521</td>\n",
       "      <td>45</td>\n",
       "      <td>d</td>\n",
       "      <td>4390.000000</td>\n",
       "      <td>1</td>\n",
       "    </tr>\n",
       "    <tr>\n",
       "      <th>4</th>\n",
       "      <td>18309.8314</td>\n",
       "      <td>15806.0000</td>\n",
       "      <td>636</td>\n",
       "      <td>40</td>\n",
       "      <td>d</td>\n",
       "      <td>2991.025996</td>\n",
       "      <td>0</td>\n",
       "    </tr>\n",
       "    <tr>\n",
       "      <th>5</th>\n",
       "      <td>19436.3479</td>\n",
       "      <td>16453.0000</td>\n",
       "      <td>740</td>\n",
       "      <td>35</td>\n",
       "      <td>d</td>\n",
       "      <td>6042.935010</td>\n",
       "      <td>1</td>\n",
       "    </tr>\n",
       "    <tr>\n",
       "      <th>6</th>\n",
       "      <td>21076.8867</td>\n",
       "      <td>17473.0000</td>\n",
       "      <td>765</td>\n",
       "      <td>30</td>\n",
       "      <td>a</td>\n",
       "      <td>6041.961006</td>\n",
       "      <td>0</td>\n",
       "    </tr>\n",
       "    <tr>\n",
       "      <th>7</th>\n",
       "      <td>23018.3551</td>\n",
       "      <td>18905.0000</td>\n",
       "      <td>894</td>\n",
       "      <td>25</td>\n",
       "      <td>c</td>\n",
       "      <td>4545.000000</td>\n",
       "      <td>1</td>\n",
       "    </tr>\n",
       "    <tr>\n",
       "      <th>8</th>\n",
       "      <td>23685.2056</td>\n",
       "      <td>19362.0000</td>\n",
       "      <td>920</td>\n",
       "      <td>15</td>\n",
       "      <td>d</td>\n",
       "      <td>7871.948008</td>\n",
       "      <td>1</td>\n",
       "    </tr>\n",
       "    <tr>\n",
       "      <th>9</th>\n",
       "      <td>25491.5708</td>\n",
       "      <td>792.0000</td>\n",
       "      <td>920</td>\n",
       "      <td>10</td>\n",
       "      <td>b</td>\n",
       "      <td>7771.974004</td>\n",
       "      <td>1</td>\n",
       "    </tr>\n",
       "  </tbody>\n",
       "</table>\n",
       "</div>"
      ],
      "text/plain": [
       "            X           Y    Z  sample group   exhumation  respected\n",
       "0   1626.7528   4990.4679  710      60     a     0.000000          1\n",
       "1   8145.5806   1315.1883  519      55     c    17.025996          0\n",
       "2  13815.5822  12609.0000  541      50     d  2973.948008          0\n",
       "3  15737.3562  14061.0000  521      45     d  4390.000000          1\n",
       "4  18309.8314  15806.0000  636      40     d  2991.025996          0\n",
       "5  19436.3479  16453.0000  740      35     d  6042.935010          1\n",
       "6  21076.8867  17473.0000  765      30     a  6041.961006          0\n",
       "7  23018.3551  18905.0000  894      25     c  4545.000000          1\n",
       "8  23685.2056  19362.0000  920      15     d  7871.948008          1\n",
       "9  25491.5708    792.0000  920      10     b  7771.974004          1"
      ]
     },
     "execution_count": 30,
     "metadata": {},
     "output_type": "execute_result"
    }
   ],
   "source": [
    "s"
   ]
  },
  {
   "cell_type": "code",
   "execution_count": null,
   "id": "965d1a56",
   "metadata": {},
   "outputs": [],
   "source": []
  }
 ],
 "metadata": {
  "kernelspec": {
   "display_name": "Python 3",
   "language": "python",
   "name": "python3"
  },
  "language_info": {
   "codemirror_mode": {
    "name": "ipython",
    "version": 3
   },
   "file_extension": ".py",
   "mimetype": "text/x-python",
   "name": "python",
   "nbconvert_exporter": "python",
   "pygments_lexer": "ipython3",
   "version": "3.8.8"
  }
 },
 "nbformat": 4,
 "nbformat_minor": 5
}
